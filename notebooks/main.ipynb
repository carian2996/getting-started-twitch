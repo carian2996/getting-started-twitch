{
 "cells": [
  {
   "cell_type": "code",
   "execution_count": 1,
   "metadata": {},
   "outputs": [],
   "source": [
    "import requests\n",
    "import json"
   ]
  },
  {
   "cell_type": "code",
   "execution_count": 2,
   "metadata": {},
   "outputs": [],
   "source": [
    "with open('./secrets/twitch-client-id') as f: CLIENT_ID = f.readlines()[0]\n",
    "with open('./secrets/twitch-client-secret') as f: CLIENT_SECRET = f.readlines()[0]"
   ]
  },
  {
   "cell_type": "code",
   "execution_count": null,
   "metadata": {},
   "outputs": [],
   "source": []
  },
  {
   "cell_type": "code",
   "execution_count": 3,
   "metadata": {},
   "outputs": [],
   "source": [
    "client_info = {\n",
    "    'client_id': CLIENT_ID, \n",
    "    'client_secret': CLIENT_SECRET, \n",
    "    'grant_type': 'client_credentials'\n",
    "}"
   ]
  },
  {
   "cell_type": "code",
   "execution_count": 6,
   "metadata": {},
   "outputs": [],
   "source": [
    "_oauth = requests.post(url='https://id.twitch.tv/oauth2/token', data=client_info).json()"
   ]
  },
  {
   "cell_type": "code",
   "execution_count": 7,
   "metadata": {},
   "outputs": [],
   "source": [
    "headers = {\n",
    "    'Client-ID': CLIENT_ID,\n",
    "    'Authorization': 'Bearer {}'.format(_oauth['access_token'])\n",
    "}"
   ]
  },
  {
   "cell_type": "code",
   "execution_count": 8,
   "metadata": {},
   "outputs": [],
   "source": [
    "params = (\n",
    "    ('id', '249820319'),\n",
    ")"
   ]
  },
  {
   "cell_type": "code",
   "execution_count": 9,
   "metadata": {},
   "outputs": [],
   "source": [
    "r = requests.get('https://api.twitch.tv/helix/users', headers=headers, params=params)"
   ]
  },
  {
   "cell_type": "code",
   "execution_count": 10,
   "metadata": {},
   "outputs": [
    {
     "data": {
      "text/plain": [
       "{'id': '249820319',\n",
       " 'login': 'thestockguy',\n",
       " 'display_name': 'thestockguy',\n",
       " 'type': '',\n",
       " 'broadcaster_type': 'partner',\n",
       " 'description': 'Money Memes Mayhem ',\n",
       " 'profile_image_url': 'https://static-cdn.jtvnw.net/jtv_user_pictures/1c26a4d7-7296-4a6b-a7ab-babaf39cbc3c-profile_image-300x300.png',\n",
       " 'offline_image_url': 'https://static-cdn.jtvnw.net/jtv_user_pictures/0ac560c1-9d8b-4f6b-8a8b-e0cb02c2d4b7-channel_offline_image-1920x1080.png',\n",
       " 'view_count': 516807}"
      ]
     },
     "execution_count": 10,
     "metadata": {},
     "output_type": "execute_result"
    }
   ],
   "source": [
    "r.json()['data'][0]"
   ]
  },
  {
   "cell_type": "code",
   "execution_count": null,
   "metadata": {},
   "outputs": [],
   "source": []
  }
 ],
 "metadata": {
  "kernelspec": {
   "display_name": "twitch-venv",
   "language": "python",
   "name": "twitch-venv"
  },
  "language_info": {
   "codemirror_mode": {
    "name": "ipython",
    "version": 3
   },
   "file_extension": ".py",
   "mimetype": "text/x-python",
   "name": "python",
   "nbconvert_exporter": "python",
   "pygments_lexer": "ipython3",
   "version": "3.8.1"
  }
 },
 "nbformat": 4,
 "nbformat_minor": 4
}
